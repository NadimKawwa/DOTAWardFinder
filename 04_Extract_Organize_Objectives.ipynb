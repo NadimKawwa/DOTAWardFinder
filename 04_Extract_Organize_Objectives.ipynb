{
 "cells": [
  {
   "cell_type": "markdown",
   "metadata": {},
   "source": [
    "# Warding Tied to Objectives \n",
    "Repear previous exercise but add status of towers at time of ward.\n",
    "Code here is incorporated into a class to make things smoother"
   ]
  },
  {
   "cell_type": "code",
   "execution_count": 23,
   "metadata": {},
   "outputs": [],
   "source": [
    "import pandas as pd\n",
    "import numpy as np\n",
    "import matplotlib.pyplot as plt\n",
    "import json\n",
    "import matplotlib.patches as patches\n",
    "import os\n",
    "\n",
    "\n"
   ]
  },
  {
   "cell_type": "code",
   "execution_count": 2,
   "metadata": {},
   "outputs": [
    {
     "data": {
      "text/html": [
       "<div>\n",
       "<style scoped>\n",
       "    .dataframe tbody tr th:only-of-type {\n",
       "        vertical-align: middle;\n",
       "    }\n",
       "\n",
       "    .dataframe tbody tr th {\n",
       "        vertical-align: top;\n",
       "    }\n",
       "\n",
       "    .dataframe thead th {\n",
       "        text-align: right;\n",
       "    }\n",
       "</style>\n",
       "<table border=\"1\" class=\"dataframe\">\n",
       "  <thead>\n",
       "    <tr style=\"text-align: right;\">\n",
       "      <th></th>\n",
       "      <th>match_id</th>\n",
       "      <th>start_time</th>\n",
       "      <th>objectives</th>\n",
       "      <th>num_sen_placed</th>\n",
       "      <th>num_obs_placed</th>\n",
       "      <th>sen_log</th>\n",
       "      <th>obs_log</th>\n",
       "      <th>hero_id</th>\n",
       "      <th>account_id</th>\n",
       "    </tr>\n",
       "  </thead>\n",
       "  <tbody>\n",
       "    <tr>\n",
       "      <th>0</th>\n",
       "      <td>5934887620</td>\n",
       "      <td>2021-04-09 00:45:24</td>\n",
       "      <td>[{'time': 76, 'type': 'CHAT_MESSAGE_COURIER_LO...</td>\n",
       "      <td>24</td>\n",
       "      <td>13</td>\n",
       "      <td>[{'time': 118, 'type': 'sen_log', 'key': '[104...</td>\n",
       "      <td>[{'time': 219, 'type': 'obs_log', 'key': '[110...</td>\n",
       "      <td>121</td>\n",
       "      <td>173328149</td>\n",
       "    </tr>\n",
       "    <tr>\n",
       "      <th>1</th>\n",
       "      <td>5934887620</td>\n",
       "      <td>2021-04-09 00:45:24</td>\n",
       "      <td>[{'time': 76, 'type': 'CHAT_MESSAGE_COURIER_LO...</td>\n",
       "      <td>14</td>\n",
       "      <td>9</td>\n",
       "      <td>[{'time': 406, 'type': 'sen_log', 'key': '[168...</td>\n",
       "      <td>[{'time': 231, 'type': 'obs_log', 'key': '[134...</td>\n",
       "      <td>58</td>\n",
       "      <td>97366926</td>\n",
       "    </tr>\n",
       "    <tr>\n",
       "      <th>2</th>\n",
       "      <td>5934887620</td>\n",
       "      <td>2021-04-09 00:45:24</td>\n",
       "      <td>[{'time': 76, 'type': 'CHAT_MESSAGE_COURIER_LO...</td>\n",
       "      <td>12</td>\n",
       "      <td>7</td>\n",
       "      <td>[{'time': 54, 'type': 'sen_log', 'key': '[96, ...</td>\n",
       "      <td>[{'time': 256, 'type': 'obs_log', 'key': '[94,...</td>\n",
       "      <td>100</td>\n",
       "      <td>184131721</td>\n",
       "    </tr>\n",
       "    <tr>\n",
       "      <th>3</th>\n",
       "      <td>5934890878</td>\n",
       "      <td>2021-04-09 00:52:54</td>\n",
       "      <td>[{'time': -25, 'type': 'CHAT_MESSAGE_FIRSTBLOO...</td>\n",
       "      <td>24</td>\n",
       "      <td>12</td>\n",
       "      <td>[{'time': 566, 'type': 'sen_log', 'key': '[124...</td>\n",
       "      <td>[{'time': 50, 'type': 'obs_log', 'key': '[88, ...</td>\n",
       "      <td>110</td>\n",
       "      <td>118394602</td>\n",
       "    </tr>\n",
       "    <tr>\n",
       "      <th>4</th>\n",
       "      <td>5934890878</td>\n",
       "      <td>2021-04-09 00:52:54</td>\n",
       "      <td>[{'time': -25, 'type': 'CHAT_MESSAGE_FIRSTBLOO...</td>\n",
       "      <td>20</td>\n",
       "      <td>11</td>\n",
       "      <td>[{'time': 30, 'type': 'sen_log', 'key': '[156,...</td>\n",
       "      <td>[{'time': 314, 'type': 'obs_log', 'key': '[154...</td>\n",
       "      <td>3</td>\n",
       "      <td>369991961</td>\n",
       "    </tr>\n",
       "  </tbody>\n",
       "</table>\n",
       "</div>"
      ],
      "text/plain": [
       "     match_id          start_time  \\\n",
       "0  5934887620 2021-04-09 00:45:24   \n",
       "1  5934887620 2021-04-09 00:45:24   \n",
       "2  5934887620 2021-04-09 00:45:24   \n",
       "3  5934890878 2021-04-09 00:52:54   \n",
       "4  5934890878 2021-04-09 00:52:54   \n",
       "\n",
       "                                          objectives  num_sen_placed  \\\n",
       "0  [{'time': 76, 'type': 'CHAT_MESSAGE_COURIER_LO...              24   \n",
       "1  [{'time': 76, 'type': 'CHAT_MESSAGE_COURIER_LO...              14   \n",
       "2  [{'time': 76, 'type': 'CHAT_MESSAGE_COURIER_LO...              12   \n",
       "3  [{'time': -25, 'type': 'CHAT_MESSAGE_FIRSTBLOO...              24   \n",
       "4  [{'time': -25, 'type': 'CHAT_MESSAGE_FIRSTBLOO...              20   \n",
       "\n",
       "   num_obs_placed                                            sen_log  \\\n",
       "0              13  [{'time': 118, 'type': 'sen_log', 'key': '[104...   \n",
       "1               9  [{'time': 406, 'type': 'sen_log', 'key': '[168...   \n",
       "2               7  [{'time': 54, 'type': 'sen_log', 'key': '[96, ...   \n",
       "3              12  [{'time': 566, 'type': 'sen_log', 'key': '[124...   \n",
       "4              11  [{'time': 30, 'type': 'sen_log', 'key': '[156,...   \n",
       "\n",
       "                                             obs_log  hero_id  account_id  \n",
       "0  [{'time': 219, 'type': 'obs_log', 'key': '[110...      121   173328149  \n",
       "1  [{'time': 231, 'type': 'obs_log', 'key': '[134...       58    97366926  \n",
       "2  [{'time': 256, 'type': 'obs_log', 'key': '[94,...      100   184131721  \n",
       "3  [{'time': 50, 'type': 'obs_log', 'key': '[88, ...      110   118394602  \n",
       "4  [{'time': 314, 'type': 'obs_log', 'key': '[154...        3   369991961  "
      ]
     },
     "execution_count": 2,
     "metadata": {},
     "output_type": "execute_result"
    }
   ],
   "source": [
    "data_path = os.path.join('data_obj', 'data_April_09_to_May_01.json')\n",
    "df = pd.read_json(data_path)\n",
    "df.head()"
   ]
  },
  {
   "cell_type": "code",
   "execution_count": 24,
   "metadata": {},
   "outputs": [
    {
     "data": {
      "text/plain": [
       "['data_May_01_to_June_01.json',\n",
       " 'data_April_09_to_May_01.json',\n",
       " 'data_August_01_to_August_17.json',\n",
       " 'data_July_01_to_August_01.json',\n",
       " 'data_June_01_to_July_01.json']"
      ]
     },
     "execution_count": 24,
     "metadata": {},
     "output_type": "execute_result"
    }
   ],
   "source": [
    "os.listdir('data_obj')"
   ]
  },
  {
   "cell_type": "code",
   "execution_count": 3,
   "metadata": {},
   "outputs": [
    {
     "data": {
      "text/plain": [
       "(4357, 9)"
      ]
     },
     "execution_count": 3,
     "metadata": {},
     "output_type": "execute_result"
    }
   ],
   "source": [
    "df.shape"
   ]
  },
  {
   "cell_type": "code",
   "execution_count": 4,
   "metadata": {},
   "outputs": [
    {
     "data": {
      "text/plain": [
       "1050"
      ]
     },
     "execution_count": 4,
     "metadata": {},
     "output_type": "execute_result"
    }
   ],
   "source": [
    "df['match_id'].nunique()"
   ]
  },
  {
   "cell_type": "markdown",
   "metadata": {},
   "source": [
    "#### We have more entries that number of unique match IDs. We can reduce work and avoid redundancy by parsing through unique match IDs to extract objectives"
   ]
  },
  {
   "cell_type": "code",
   "execution_count": 5,
   "metadata": {},
   "outputs": [
    {
     "data": {
      "text/plain": [
       "5935335732"
      ]
     },
     "execution_count": 5,
     "metadata": {},
     "output_type": "execute_result"
    }
   ],
   "source": [
    "df['match_id'][52]"
   ]
  },
  {
   "cell_type": "code",
   "execution_count": 6,
   "metadata": {
    "scrolled": false
   },
   "outputs": [
    {
     "data": {
      "text/plain": [
       "[{'time': 11,\n",
       "  'type': 'CHAT_MESSAGE_FIRSTBLOOD',\n",
       "  'slot': 6,\n",
       "  'key': 0,\n",
       "  'player_slot': 129},\n",
       " {'time': 290, 'type': 'CHAT_MESSAGE_COURIER_LOST', 'team': 6},\n",
       " {'time': 715,\n",
       "  'type': 'building_kill',\n",
       "  'unit': 'npc_dota_hero_razor',\n",
       "  'key': 'npc_dota_goodguys_tower1_bot',\n",
       "  'slot': 6,\n",
       "  'player_slot': 129},\n",
       " {'time': 1069,\n",
       "  'type': 'building_kill',\n",
       "  'unit': 'npc_dota_hero_phantom_assassin',\n",
       "  'key': 'npc_dota_badguys_tower1_top',\n",
       "  'slot': 4,\n",
       "  'player_slot': 4},\n",
       " {'time': 1189,\n",
       "  'type': 'building_kill',\n",
       "  'unit': 'npc_dota_hero_templar_assassin',\n",
       "  'key': 'npc_dota_goodguys_tower1_mid',\n",
       "  'slot': 7,\n",
       "  'player_slot': 130},\n",
       " {'time': 1268, 'type': 'CHAT_MESSAGE_ROSHAN_KILL', 'team': 2},\n",
       " {'time': 1268, 'type': 'CHAT_MESSAGE_AEGIS', 'slot': 4, 'player_slot': 4},\n",
       " {'time': 1382,\n",
       "  'type': 'building_kill',\n",
       "  'unit': 'npc_dota_hero_enigma',\n",
       "  'key': 'npc_dota_goodguys_tower2_bot',\n",
       "  'slot': 9,\n",
       "  'player_slot': 132},\n",
       " {'time': 1483,\n",
       "  'type': 'building_kill',\n",
       "  'unit': 'npc_dota_hero_razor',\n",
       "  'key': 'npc_dota_goodguys_tower2_mid',\n",
       "  'slot': 6,\n",
       "  'player_slot': 129},\n",
       " {'time': 1564,\n",
       "  'type': 'building_kill',\n",
       "  'unit': 'npc_dota_hero_templar_assassin',\n",
       "  'key': 'npc_dota_goodguys_tower1_top',\n",
       "  'slot': 7,\n",
       "  'player_slot': 130},\n",
       " {'time': 1637,\n",
       "  'type': 'building_kill',\n",
       "  'unit': 'npc_dota_hero_razor',\n",
       "  'key': 'npc_dota_goodguys_tower2_top',\n",
       "  'slot': 6,\n",
       "  'player_slot': 129},\n",
       " {'time': 1748,\n",
       "  'type': 'building_kill',\n",
       "  'unit': 'npc_dota_hero_templar_assassin',\n",
       "  'key': 'npc_dota_goodguys_tower3_mid',\n",
       "  'slot': 7,\n",
       "  'player_slot': 130},\n",
       " {'time': 1754,\n",
       "  'type': 'building_kill',\n",
       "  'unit': 'npc_dota_hero_razor',\n",
       "  'key': 'npc_dota_goodguys_melee_rax_mid',\n",
       "  'slot': 6,\n",
       "  'player_slot': 129},\n",
       " {'time': 1759,\n",
       "  'type': 'building_kill',\n",
       "  'unit': 'npc_dota_hero_enigma',\n",
       "  'key': 'npc_dota_goodguys_range_rax_mid',\n",
       "  'slot': 9,\n",
       "  'player_slot': 132},\n",
       " {'time': 1952,\n",
       "  'type': 'building_kill',\n",
       "  'unit': 'npc_dota_creep_goodguys_melee',\n",
       "  'key': 'npc_dota_badguys_tower1_mid'},\n",
       " {'time': 1961, 'type': 'CHAT_MESSAGE_COURIER_LOST', 'team': 6},\n",
       " {'time': 1962,\n",
       "  'type': 'building_kill',\n",
       "  'unit': 'npc_dota_creep_goodguys_ranged',\n",
       "  'key': 'npc_dota_badguys_tower1_bot'},\n",
       " {'time': 2023, 'type': 'CHAT_MESSAGE_ROSHAN_KILL', 'team': 3},\n",
       " {'time': 2024, 'type': 'CHAT_MESSAGE_AEGIS', 'slot': 7, 'player_slot': 130},\n",
       " {'time': 2046,\n",
       "  'type': 'building_kill',\n",
       "  'unit': 'dota_unknown',\n",
       "  'key': 'npc_dota_goodguys_fort'}]"
      ]
     },
     "execution_count": 6,
     "metadata": {},
     "output_type": "execute_result"
    }
   ],
   "source": [
    "#look inside a obs log column\n",
    "df['objectives'][52]"
   ]
  },
  {
   "cell_type": "code",
   "execution_count": 7,
   "metadata": {},
   "outputs": [
    {
     "name": "stdout",
     "output_type": "stream",
     "text": [
      "CHAT_MESSAGE_FIRSTBLOOD\n",
      "CHAT_MESSAGE_COURIER_LOST\n",
      "building_kill\n",
      "building_kill\n",
      "building_kill\n",
      "CHAT_MESSAGE_ROSHAN_KILL\n",
      "CHAT_MESSAGE_AEGIS\n",
      "building_kill\n",
      "building_kill\n",
      "building_kill\n",
      "building_kill\n",
      "building_kill\n",
      "building_kill\n",
      "building_kill\n",
      "building_kill\n",
      "CHAT_MESSAGE_COURIER_LOST\n",
      "building_kill\n",
      "CHAT_MESSAGE_ROSHAN_KILL\n",
      "CHAT_MESSAGE_AEGIS\n",
      "building_kill\n"
     ]
    }
   ],
   "source": [
    "for item in df['objectives'][52]:\n",
    "    print(item['type'])"
   ]
  },
  {
   "cell_type": "code",
   "execution_count": 8,
   "metadata": {},
   "outputs": [
    {
     "name": "stdout",
     "output_type": "stream",
     "text": [
      "npc_dota_goodguys_tower1_bot\n",
      "npc_dota_goodguys_tower1_top\n",
      "npc_dota_badguys_tower1_top\n",
      "npc_dota_goodguys_tower1_mid\n",
      "npc_dota_badguys_tower1_bot\n",
      "npc_dota_badguys_tower1_mid\n",
      "npc_dota_badguys_tower2_bot\n",
      "npc_dota_goodguys_tower2_top\n",
      "npc_dota_badguys_tower3_bot\n",
      "npc_dota_goodguys_tower2_bot\n",
      "npc_dota_badguys_tower2_top\n",
      "npc_dota_goodguys_tower3_bot\n",
      "npc_dota_badguys_tower3_top\n",
      "npc_dota_goodguys_melee_rax_bot\n",
      "npc_dota_goodguys_range_rax_bot\n",
      "npc_dota_goodguys_tower2_mid\n",
      "npc_dota_goodguys_tower3_top\n",
      "npc_dota_goodguys_tower4\n",
      "npc_dota_goodguys_tower4\n",
      "npc_dota_goodguys_fort\n"
     ]
    }
   ],
   "source": [
    "for item in df['objectives'][0]:\n",
    "    if item['type']== 'building_kill':\n",
    "        print(item['key'])"
   ]
  },
  {
   "cell_type": "code",
   "execution_count": 9,
   "metadata": {},
   "outputs": [],
   "source": [
    "arr = [{'bot1': 999, 'bot2': 55}, {'bot2': 100, 'bot3': 300}]"
   ]
  },
  {
   "cell_type": "code",
   "execution_count": 10,
   "metadata": {},
   "outputs": [
    {
     "data": {
      "text/html": [
       "<div>\n",
       "<style scoped>\n",
       "    .dataframe tbody tr th:only-of-type {\n",
       "        vertical-align: middle;\n",
       "    }\n",
       "\n",
       "    .dataframe tbody tr th {\n",
       "        vertical-align: top;\n",
       "    }\n",
       "\n",
       "    .dataframe thead th {\n",
       "        text-align: right;\n",
       "    }\n",
       "</style>\n",
       "<table border=\"1\" class=\"dataframe\">\n",
       "  <thead>\n",
       "    <tr style=\"text-align: right;\">\n",
       "      <th></th>\n",
       "      <th>bot1</th>\n",
       "      <th>bot2</th>\n",
       "      <th>bot3</th>\n",
       "    </tr>\n",
       "  </thead>\n",
       "  <tbody>\n",
       "    <tr>\n",
       "      <th>0</th>\n",
       "      <td>999.0</td>\n",
       "      <td>55</td>\n",
       "      <td>NaN</td>\n",
       "    </tr>\n",
       "    <tr>\n",
       "      <th>1</th>\n",
       "      <td>NaN</td>\n",
       "      <td>100</td>\n",
       "      <td>300.0</td>\n",
       "    </tr>\n",
       "  </tbody>\n",
       "</table>\n",
       "</div>"
      ],
      "text/plain": [
       "    bot1  bot2   bot3\n",
       "0  999.0    55    NaN\n",
       "1    NaN   100  300.0"
      ]
     },
     "execution_count": 10,
     "metadata": {},
     "output_type": "execute_result"
    }
   ],
   "source": [
    "pd.DataFrame(arr)"
   ]
  },
  {
   "cell_type": "code",
   "execution_count": 11,
   "metadata": {},
   "outputs": [],
   "source": [
    "def getObjectiveTimes(match_id, log):\n",
    "    \"\"\"\n",
    "    Reads a log associated with a match and returns the\n",
    "    \"\"\"\n",
    "    #empty dict\n",
    "    d = {}\n",
    "    \n",
    "    #keep track of how many rosh kills\n",
    "    i = 0\n",
    "    \n",
    "    #store the match id\n",
    "    d['match_id'] = match_id\n",
    "    \n",
    "    #Extract buildings\n",
    "    for item in log:\n",
    "        #check if objective tied to buildings\n",
    "        if item['type']== 'building_kill':\n",
    "            d[item['key']] = item['time']\n",
    "        #check for ROSHAN time killed\n",
    "        elif item['type'] == 'CHAT_MESSAGE_ROSHAN_KILL':\n",
    "            #has rosh been killed before?\n",
    "            if 'ROSHAN_0' not in d:\n",
    "                d['ROSHAN_0'] = item['time']\n",
    "            else:\n",
    "                i += 1\n",
    "                name= 'ROSHAN_' + str(i)\n",
    "                d[name] = item['time']\n",
    "            \n",
    "    return d\n",
    "    \n",
    "    "
   ]
  },
  {
   "cell_type": "code",
   "execution_count": 12,
   "metadata": {},
   "outputs": [
    {
     "data": {
      "text/plain": [
       "{'match_id': 123,\n",
       " 'npc_dota_goodguys_tower1_bot': 715,\n",
       " 'npc_dota_badguys_tower1_top': 1069,\n",
       " 'npc_dota_goodguys_tower1_mid': 1189,\n",
       " 'ROSHAN_0': 1268,\n",
       " 'npc_dota_goodguys_tower2_bot': 1382,\n",
       " 'npc_dota_goodguys_tower2_mid': 1483,\n",
       " 'npc_dota_goodguys_tower1_top': 1564,\n",
       " 'npc_dota_goodguys_tower2_top': 1637,\n",
       " 'npc_dota_goodguys_tower3_mid': 1748,\n",
       " 'npc_dota_goodguys_melee_rax_mid': 1754,\n",
       " 'npc_dota_goodguys_range_rax_mid': 1759,\n",
       " 'npc_dota_badguys_tower1_mid': 1952,\n",
       " 'npc_dota_badguys_tower1_bot': 1962,\n",
       " 'ROSHAN_1': 2023,\n",
       " 'npc_dota_goodguys_fort': 2046}"
      ]
     },
     "execution_count": 12,
     "metadata": {},
     "output_type": "execute_result"
    }
   ],
   "source": [
    "#test it out\n",
    "getObjectiveTimes(123, #arbitrary match ID \n",
    "                 df['objectives'][52])"
   ]
  },
  {
   "cell_type": "code",
   "execution_count": 13,
   "metadata": {},
   "outputs": [],
   "source": [
    "def getObjectiveDataframe(df):\n",
    "    #filter by keeping unique match ids\n",
    "    df_match = df.drop_duplicates(subset='match_id', \n",
    "                                  keep='first')\n",
    "    \n",
    "    obj_arr = []\n",
    "    for row in df_match.itertuples(index=False):\n",
    "        d = getObjectiveTimes(row.match_id, \n",
    "                              row.objectives)\n",
    "        obj_arr.append(d)\n",
    "        \n",
    "    return pd.DataFrame(obj_arr)"
   ]
  },
  {
   "cell_type": "code",
   "execution_count": 14,
   "metadata": {},
   "outputs": [
    {
     "data": {
      "text/html": [
       "<div>\n",
       "<style scoped>\n",
       "    .dataframe tbody tr th:only-of-type {\n",
       "        vertical-align: middle;\n",
       "    }\n",
       "\n",
       "    .dataframe tbody tr th {\n",
       "        vertical-align: top;\n",
       "    }\n",
       "\n",
       "    .dataframe thead th {\n",
       "        text-align: right;\n",
       "    }\n",
       "</style>\n",
       "<table border=\"1\" class=\"dataframe\">\n",
       "  <thead>\n",
       "    <tr style=\"text-align: right;\">\n",
       "      <th></th>\n",
       "      <th>match_id</th>\n",
       "      <th>npc_dota_goodguys_tower1_bot</th>\n",
       "      <th>npc_dota_goodguys_tower1_top</th>\n",
       "      <th>npc_dota_badguys_tower1_top</th>\n",
       "      <th>npc_dota_goodguys_tower1_mid</th>\n",
       "      <th>npc_dota_badguys_tower1_bot</th>\n",
       "      <th>ROSHAN_0</th>\n",
       "      <th>npc_dota_badguys_tower1_mid</th>\n",
       "      <th>npc_dota_badguys_tower2_bot</th>\n",
       "      <th>npc_dota_goodguys_tower2_top</th>\n",
       "      <th>...</th>\n",
       "      <th>ROSHAN_2</th>\n",
       "      <th>npc_dota_badguys_melee_rax_mid</th>\n",
       "      <th>npc_dota_badguys_melee_rax_top</th>\n",
       "      <th>npc_dota_badguys_range_rax_top</th>\n",
       "      <th>npc_dota_badguys_range_rax_mid</th>\n",
       "      <th>npc_dota_badguys_tower4</th>\n",
       "      <th>ROSHAN_3</th>\n",
       "      <th>ROSHAN_4</th>\n",
       "      <th>ROSHAN_5</th>\n",
       "      <th>ROSHAN_6</th>\n",
       "    </tr>\n",
       "  </thead>\n",
       "  <tbody>\n",
       "    <tr>\n",
       "      <th>0</th>\n",
       "      <td>5934887620</td>\n",
       "      <td>531.0</td>\n",
       "      <td>742.0</td>\n",
       "      <td>833.0</td>\n",
       "      <td>854.0</td>\n",
       "      <td>992.0</td>\n",
       "      <td>1165.0</td>\n",
       "      <td>1296.0</td>\n",
       "      <td>1485.0</td>\n",
       "      <td>1745.0</td>\n",
       "      <td>...</td>\n",
       "      <td>NaN</td>\n",
       "      <td>NaN</td>\n",
       "      <td>NaN</td>\n",
       "      <td>NaN</td>\n",
       "      <td>NaN</td>\n",
       "      <td>NaN</td>\n",
       "      <td>NaN</td>\n",
       "      <td>NaN</td>\n",
       "      <td>NaN</td>\n",
       "      <td>NaN</td>\n",
       "    </tr>\n",
       "    <tr>\n",
       "      <th>1</th>\n",
       "      <td>5934890878</td>\n",
       "      <td>744.0</td>\n",
       "      <td>1461.0</td>\n",
       "      <td>741.0</td>\n",
       "      <td>717.0</td>\n",
       "      <td>NaN</td>\n",
       "      <td>1414.0</td>\n",
       "      <td>775.0</td>\n",
       "      <td>NaN</td>\n",
       "      <td>1486.0</td>\n",
       "      <td>...</td>\n",
       "      <td>NaN</td>\n",
       "      <td>NaN</td>\n",
       "      <td>NaN</td>\n",
       "      <td>NaN</td>\n",
       "      <td>NaN</td>\n",
       "      <td>NaN</td>\n",
       "      <td>NaN</td>\n",
       "      <td>NaN</td>\n",
       "      <td>NaN</td>\n",
       "      <td>NaN</td>\n",
       "    </tr>\n",
       "    <tr>\n",
       "      <th>2</th>\n",
       "      <td>5935016094</td>\n",
       "      <td>779.0</td>\n",
       "      <td>NaN</td>\n",
       "      <td>879.0</td>\n",
       "      <td>1535.0</td>\n",
       "      <td>1218.0</td>\n",
       "      <td>1842.0</td>\n",
       "      <td>730.0</td>\n",
       "      <td>NaN</td>\n",
       "      <td>NaN</td>\n",
       "      <td>...</td>\n",
       "      <td>NaN</td>\n",
       "      <td>NaN</td>\n",
       "      <td>NaN</td>\n",
       "      <td>NaN</td>\n",
       "      <td>NaN</td>\n",
       "      <td>NaN</td>\n",
       "      <td>NaN</td>\n",
       "      <td>NaN</td>\n",
       "      <td>NaN</td>\n",
       "      <td>NaN</td>\n",
       "    </tr>\n",
       "    <tr>\n",
       "      <th>3</th>\n",
       "      <td>5935056204</td>\n",
       "      <td>865.0</td>\n",
       "      <td>NaN</td>\n",
       "      <td>547.0</td>\n",
       "      <td>1460.0</td>\n",
       "      <td>1298.0</td>\n",
       "      <td>908.0</td>\n",
       "      <td>765.0</td>\n",
       "      <td>1709.0</td>\n",
       "      <td>NaN</td>\n",
       "      <td>...</td>\n",
       "      <td>NaN</td>\n",
       "      <td>NaN</td>\n",
       "      <td>NaN</td>\n",
       "      <td>NaN</td>\n",
       "      <td>NaN</td>\n",
       "      <td>NaN</td>\n",
       "      <td>NaN</td>\n",
       "      <td>NaN</td>\n",
       "      <td>NaN</td>\n",
       "      <td>NaN</td>\n",
       "    </tr>\n",
       "    <tr>\n",
       "      <th>4</th>\n",
       "      <td>5935093903</td>\n",
       "      <td>978.0</td>\n",
       "      <td>1668.0</td>\n",
       "      <td>511.0</td>\n",
       "      <td>1905.0</td>\n",
       "      <td>695.0</td>\n",
       "      <td>1932.0</td>\n",
       "      <td>610.0</td>\n",
       "      <td>NaN</td>\n",
       "      <td>1971.0</td>\n",
       "      <td>...</td>\n",
       "      <td>NaN</td>\n",
       "      <td>NaN</td>\n",
       "      <td>NaN</td>\n",
       "      <td>NaN</td>\n",
       "      <td>NaN</td>\n",
       "      <td>NaN</td>\n",
       "      <td>NaN</td>\n",
       "      <td>NaN</td>\n",
       "      <td>NaN</td>\n",
       "      <td>NaN</td>\n",
       "    </tr>\n",
       "  </tbody>\n",
       "</table>\n",
       "<p>5 rows × 42 columns</p>\n",
       "</div>"
      ],
      "text/plain": [
       "     match_id  npc_dota_goodguys_tower1_bot  npc_dota_goodguys_tower1_top  \\\n",
       "0  5934887620                         531.0                         742.0   \n",
       "1  5934890878                         744.0                        1461.0   \n",
       "2  5935016094                         779.0                           NaN   \n",
       "3  5935056204                         865.0                           NaN   \n",
       "4  5935093903                         978.0                        1668.0   \n",
       "\n",
       "   npc_dota_badguys_tower1_top  npc_dota_goodguys_tower1_mid  \\\n",
       "0                        833.0                         854.0   \n",
       "1                        741.0                         717.0   \n",
       "2                        879.0                        1535.0   \n",
       "3                        547.0                        1460.0   \n",
       "4                        511.0                        1905.0   \n",
       "\n",
       "   npc_dota_badguys_tower1_bot  ROSHAN_0  npc_dota_badguys_tower1_mid  \\\n",
       "0                        992.0    1165.0                       1296.0   \n",
       "1                          NaN    1414.0                        775.0   \n",
       "2                       1218.0    1842.0                        730.0   \n",
       "3                       1298.0     908.0                        765.0   \n",
       "4                        695.0    1932.0                        610.0   \n",
       "\n",
       "   npc_dota_badguys_tower2_bot  npc_dota_goodguys_tower2_top  ...  ROSHAN_2  \\\n",
       "0                       1485.0                        1745.0  ...       NaN   \n",
       "1                          NaN                        1486.0  ...       NaN   \n",
       "2                          NaN                           NaN  ...       NaN   \n",
       "3                       1709.0                           NaN  ...       NaN   \n",
       "4                          NaN                        1971.0  ...       NaN   \n",
       "\n",
       "   npc_dota_badguys_melee_rax_mid  npc_dota_badguys_melee_rax_top  \\\n",
       "0                             NaN                             NaN   \n",
       "1                             NaN                             NaN   \n",
       "2                             NaN                             NaN   \n",
       "3                             NaN                             NaN   \n",
       "4                             NaN                             NaN   \n",
       "\n",
       "   npc_dota_badguys_range_rax_top  npc_dota_badguys_range_rax_mid  \\\n",
       "0                             NaN                             NaN   \n",
       "1                             NaN                             NaN   \n",
       "2                             NaN                             NaN   \n",
       "3                             NaN                             NaN   \n",
       "4                             NaN                             NaN   \n",
       "\n",
       "   npc_dota_badguys_tower4  ROSHAN_3  ROSHAN_4  ROSHAN_5  ROSHAN_6  \n",
       "0                      NaN       NaN       NaN       NaN       NaN  \n",
       "1                      NaN       NaN       NaN       NaN       NaN  \n",
       "2                      NaN       NaN       NaN       NaN       NaN  \n",
       "3                      NaN       NaN       NaN       NaN       NaN  \n",
       "4                      NaN       NaN       NaN       NaN       NaN  \n",
       "\n",
       "[5 rows x 42 columns]"
      ]
     },
     "execution_count": 14,
     "metadata": {},
     "output_type": "execute_result"
    }
   ],
   "source": [
    "a = getObjectiveDataframe(df)\n",
    "a.head()"
   ]
  },
  {
   "cell_type": "code",
   "execution_count": 22,
   "metadata": {},
   "outputs": [
    {
     "data": {
      "text/plain": [
       "(1050, 42)"
      ]
     },
     "execution_count": 22,
     "metadata": {},
     "output_type": "execute_result"
    }
   ],
   "source": [
    "a.shape"
   ]
  },
  {
   "cell_type": "code",
   "execution_count": null,
   "metadata": {},
   "outputs": [],
   "source": []
  }
 ],
 "metadata": {
  "kernelspec": {
   "display_name": "Python 3",
   "language": "python",
   "name": "python3"
  },
  "language_info": {
   "codemirror_mode": {
    "name": "ipython",
    "version": 3
   },
   "file_extension": ".py",
   "mimetype": "text/x-python",
   "name": "python",
   "nbconvert_exporter": "python",
   "pygments_lexer": "ipython3",
   "version": "3.8.5"
  }
 },
 "nbformat": 4,
 "nbformat_minor": 4
}
